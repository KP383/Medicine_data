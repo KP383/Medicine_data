{
 "cells": [
  {
   "cell_type": "code",
   "execution_count": 2,
   "id": "6652a3ff",
   "metadata": {},
   "outputs": [],
   "source": [
    "import requests"
   ]
  },
  {
   "cell_type": "code",
   "execution_count": 3,
   "id": "ae0f28fe",
   "metadata": {},
   "outputs": [],
   "source": [
    "for i in range(1, 280):\n",
    "    url = f'https://www.1mg.com/drugs-all-medicines?page={i}&label=b'\n",
    "    data = requests.get(url).text\n",
    "    f = open(f\"All Medicine HTML/B/B_{i}.txt\", \"w\")\n",
    "    f.write(data)"
   ]
  },
  {
   "cell_type": "code",
   "execution_count": 4,
   "id": "d94aa5a5",
   "metadata": {},
   "outputs": [],
   "source": [
    "for i in range(1, 545):\n",
    "    url = f'https://www.1mg.com/drugs-all-medicines?page={i}&label=d'\n",
    "    data = requests.get(url).text\n",
    "    f = open(f\"All Medicine HTML/D/D_{i}.txt\", \"w\")\n",
    "    f.write(data)"
   ]
  },
  {
   "cell_type": "code",
   "execution_count": 5,
   "id": "c5fa4dd4",
   "metadata": {},
   "outputs": [],
   "source": [
    "for i in range(1, 355):\n",
    "    url = f'https://www.1mg.com/drugs-all-medicines?page={i}&label=f'\n",
    "    data = requests.get(url).text\n",
    "    f = open(f\"All Medicine HTML/F/F_{i}.txt\", \"w\")\n",
    "    f.write(data)"
   ]
  },
  {
   "cell_type": "code",
   "execution_count": 6,
   "id": "a5b3608d",
   "metadata": {},
   "outputs": [],
   "source": [
    "for i in range(1, 136):\n",
    "    url = f'https://www.1mg.com/drugs-all-medicines?page={i}&label=h'\n",
    "    data = requests.get(url).text\n",
    "    f = open(f\"All Medicine HTML/H/H_{i}.txt\", \"w\")\n",
    "    f.write(data)"
   ]
  },
  {
   "cell_type": "code",
   "execution_count": 7,
   "id": "77b64f7e",
   "metadata": {},
   "outputs": [],
   "source": [
    "for i in range(1, 61):\n",
    "    url = f'https://www.1mg.com/drugs-all-medicines?page={i}&label=j'\n",
    "    data = requests.get(url).text\n",
    "    f = open(f\"All Medicine HTML/J/J_{i}.txt\", \"w\")\n",
    "    f.write(data)"
   ]
  },
  {
   "cell_type": "code",
   "execution_count": 8,
   "id": "cc5c5cec",
   "metadata": {},
   "outputs": [],
   "source": [
    "for i in range(1, 445):\n",
    "    url = f'https://www.1mg.com/drugs-all-medicines?page={i}&label=l'\n",
    "    data = requests.get(url).text\n",
    "    f = open(f\"All Medicine HTML/L/L_{i}.txt\", \"w\")\n",
    "    f.write(data)"
   ]
  },
  {
   "cell_type": "code",
   "execution_count": 12,
   "id": "4235a61c",
   "metadata": {},
   "outputs": [],
   "source": [
    "for i in range(1, 404):\n",
    "    url = f'https://www.1mg.com/drugs-all-medicines?page={i}&label=n'\n",
    "    data = requests.get(url).text\n",
    "    f = open(f\"All Medicine HTML/N/N_{i}.txt\", \"w\")\n",
    "    f.write(data)"
   ]
  },
  {
   "cell_type": "code",
   "execution_count": 3,
   "id": "e31d080b",
   "metadata": {},
   "outputs": [],
   "source": [
    "for i in range(1, 592):\n",
    "    url = f'https://www.1mg.com/drugs-all-medicines?page={i}&label=p'\n",
    "    data = requests.get(url).text\n",
    "    f = open(f\"All Medicine HTML/P/P_{i}.txt\", \"w\")\n",
    "    f.write(data)"
   ]
  },
  {
   "cell_type": "code",
   "execution_count": 4,
   "id": "98cbb964",
   "metadata": {},
   "outputs": [],
   "source": [
    "for i in range(1, 567):\n",
    "    url = f'https://www.1mg.com/drugs-all-medicines?page={i}&label=r'\n",
    "    data = requests.get(url).text\n",
    "    f = open(f\"All Medicine HTML/R/R_{i}.txt\", \"w\")\n",
    "    f.write(data)"
   ]
  },
  {
   "cell_type": "code",
   "execution_count": 10,
   "id": "f5127bf9",
   "metadata": {},
   "outputs": [],
   "source": [
    "for i in range(1, 69):\n",
    "    url = f'https://www.1mg.com/drugs-all-medicines?page={i}&label=x'\n",
    "    data = requests.get(url).text\n",
    "    f = open(f\"All Medicine HTML/X/X_{i}.txt\", \"w\")\n",
    "    f.write(data)"
   ]
  },
  {
   "cell_type": "code",
   "execution_count": 11,
   "id": "0559d0c0",
   "metadata": {},
   "outputs": [],
   "source": [
    "for i in range(1, 265):\n",
    "    url = f'https://www.1mg.com/drugs-all-medicines?page={i}&label=z'\n",
    "    data = requests.get(url).text\n",
    "    f = open(f\"All Medicine HTML/Z/Z_{i}.txt\", \"w\")\n",
    "    f.write(data)"
   ]
  }
 ],
 "metadata": {
  "kernelspec": {
   "display_name": "Python 3 (ipykernel)",
   "language": "python",
   "name": "python3"
  },
  "language_info": {
   "codemirror_mode": {
    "name": "ipython",
    "version": 3
   },
   "file_extension": ".py",
   "mimetype": "text/x-python",
   "name": "python",
   "nbconvert_exporter": "python",
   "pygments_lexer": "ipython3",
   "version": "3.9.7"
  }
 },
 "nbformat": 4,
 "nbformat_minor": 5
}
